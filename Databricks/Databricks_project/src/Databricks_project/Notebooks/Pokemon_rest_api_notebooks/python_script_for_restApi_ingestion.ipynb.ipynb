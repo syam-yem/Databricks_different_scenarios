{
 "cells": [
  {
   "cell_type": "code",
   "execution_count": 0,
   "metadata": {
    "application/vnd.databricks.v1+cell": {
     "cellMetadata": {
      "byteLimit": 2048000,
      "rowLimit": 10000
     },
     "inputWidgets": {},
     "nuid": "05a84eca-8efe-4d7e-9bc3-fe135625d946",
     "showTitle": false,
     "tableResultSettingsMap": {},
     "title": ""
    }
   },
   "outputs": [],
   "source": [
    "import requests\n",
    "import pandas\n"
   ]
  },
  {
   "cell_type": "code",
   "execution_count": 0,
   "metadata": {
    "application/vnd.databricks.v1+cell": {
     "cellMetadata": {
      "byteLimit": 2048000,
      "rowLimit": 10000
     },
     "inputWidgets": {},
     "nuid": "b61e25ab-708d-43c6-a46e-8633de3b3491",
     "showTitle": true,
     "tableResultSettingsMap": {},
     "title": "Before Applying Pagination "
    }
   },
   "outputs": [],
   "source": [
    "##url =   'https://pokeapi.co/api/v2/pokemon'\n",
    "##header = {\"Contect-Type\":\"application/json\",\n",
    "  ##        \"Accept-Encoding\":\"deflate\"}\n",
    "\n",
    "\n",
    "##response = requests.get(url, headers = header)\n",
    "##print(response)\n",
    "\n",
    "##responseData = response.json()\n",
    "##print(responseData)\n",
    "\n",
    "\n",
    "##df = pandas.DataFrame(responseData)\n",
    "##print(df)\n",
    "\n"
   ]
  },
  {
   "cell_type": "code",
   "execution_count": 0,
   "metadata": {
    "application/vnd.databricks.v1+cell": {
     "cellMetadata": {
      "byteLimit": 2048000,
      "rowLimit": 10000
     },
     "inputWidgets": {},
     "nuid": "0f3ebc69-c2a2-45e6-a5af-7598c379bd72",
     "showTitle": true,
     "tableResultSettingsMap": {},
     "title": "After Applying Pagination "
    }
   },
   "outputs": [],
   "source": [
    "import requests\n",
    "\n",
    "url = 'https://pokeapi.co/api/v2/pokemon?offset=0&limit=20'\n",
    "header =  {\"Connect_type\":\"application/json\",\n",
    "           \"Accept-Encoding\":\"deflate\"}\n",
    "\n",
    "all_data =[]\n",
    "\n",
    "while url:\n",
    "    response = requests.get(url)\n",
    "    data = response.json()\n",
    "\n",
    "    all_data.extend(data[\"results\"])\n",
    "    url = data[\"next\"]\n",
    "\n",
    "\n",
    "df = spark.createDataFrame(all_data)\n",
    "display(df)"
   ]
  },
  {
   "cell_type": "code",
   "execution_count": 0,
   "metadata": {
    "application/vnd.databricks.v1+cell": {
     "cellMetadata": {
      "byteLimit": 2048000,
      "rowLimit": 10000
     },
     "inputWidgets": {},
     "nuid": "a7d986fc-b680-46da-9dea-b681ef914f05",
     "showTitle": false,
     "tableResultSettingsMap": {
      "0": {
       "dataGridStateBlob": "{\"version\":1,\"tableState\":{\"columnPinning\":{\"left\":[\"#row_number#\"],\"right\":[]},\"columnSizing\":{\"next\":465,\"results\":454},\"columnVisibility\":{}},\"settings\":{\"columns\":{\"next\":{\"format\":{\"preset\":\"string-preset-url\"}}}},\"syncTimestamp\":1759585773799}",
       "filterBlob": null,
       "queryPlanFiltersBlob": null,
       "tableResultIndex": 0
      }
     },
     "title": ""
    }
   },
   "outputs": [],
   "source": [
    "display(df)"
   ]
  },
  {
   "cell_type": "code",
   "execution_count": 0,
   "metadata": {
    "application/vnd.databricks.v1+cell": {
     "cellMetadata": {
      "byteLimit": 2048000,
      "rowLimit": 10000
     },
     "inputWidgets": {},
     "nuid": "15c77c3e-b0ed-46a0-a566-c5d2a3ff5653",
     "showTitle": true,
     "tableResultSettingsMap": {},
     "title": "writing df to ADLS Gen2"
    }
   },
   "outputs": [],
   "source": [
    "df.write.mode(\"overwrite\").json(\"abfss://pokemon-restapi@storageaccoutnazure.dfs.core.windows.net/pokemon-restapi/Databricks_API/\")"
   ]
  }
 ],
 "metadata": {
  "application/vnd.databricks.v1+notebook": {
   "computePreferences": null,
   "dashboards": [],
   "environmentMetadata": {
    "base_environment": "",
    "environment_version": "3"
   },
   "inputWidgetPreferences": null,
   "language": "python",
   "notebookMetadata": {
    "pythonIndentUnit": 4
   },
   "notebookName": "python_script_for_restApi_ingestion.ipynb",
   "widgets": {
    "catalog_name": {
     "currentValue": "dev_catalog",
     "nuid": "2833608d-d302-4daa-b375-ed90554330f5",
     "typedWidgetInfo": {
      "autoCreated": false,
      "defaultValue": "",
      "label": null,
      "name": "catalog_name",
      "options": {
       "widgetDisplayType": "Text",
       "validationRegex": null
      },
      "parameterDataType": "String"
     },
     "widgetInfo": {
      "widgetType": "text",
      "defaultValue": "",
      "label": null,
      "name": "catalog_name",
      "options": {
       "widgetType": "text",
       "autoCreated": false,
       "validationRegex": null
      }
     }
    }
   }
  },
  "language_info": {
   "name": "python"
  }
 },
 "nbformat": 4,
 "nbformat_minor": 0
}
