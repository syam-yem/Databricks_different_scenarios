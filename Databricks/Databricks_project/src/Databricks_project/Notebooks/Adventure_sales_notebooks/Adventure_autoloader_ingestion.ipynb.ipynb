{
 "cells": [
  {
   "cell_type": "code",
   "execution_count": 0,
   "metadata": {
    "application/vnd.databricks.v1+cell": {
     "cellMetadata": {
      "byteLimit": 2048000,
      "rowLimit": 10000
     },
     "inputWidgets": {},
     "nuid": "a8aa7721-79e7-4b6a-8ded-fcf7b3fa0954",
     "showTitle": false,
     "tableResultSettingsMap": {},
     "title": ""
    }
   },
   "outputs": [],
   "source": [
    "df = spark.readStream.format(\"cloudFiles\") \\\n",
    "    .option(\"cloudFiles.format\",\"csv\") \\\n",
    "        .option(\"cloudFiles.schemaLocation\",\"abfss://bronze@storageaccoutnazure.dfs.core.windows.net/_schemas/sales\") \\\n",
    "            .option(\"cloudFiles.schemaEvolutionMode\",\"addNewColumns\") \\\n",
    "                .option(\"cloudFiles.maxFilesPerTrigger\",\"1\") \\\n",
    "                    .load(\"abfss://source@storageaccoutnazure.dfs.core.windows.net/triggerdata/Sales\")\n"
   ]
  },
  {
   "cell_type": "code",
   "execution_count": 0,
   "metadata": {
    "application/vnd.databricks.v1+cell": {
     "cellMetadata": {
      "byteLimit": 2048000,
      "rowLimit": 10000
     },
     "inputWidgets": {},
     "nuid": "1027511c-c848-410b-b458-d863c5e6bafa",
     "showTitle": false,
     "tableResultSettingsMap": {},
     "title": ""
    }
   },
   "outputs": [],
   "source": [
    "df.writeStream.format(\"delta\") \\\n",
    "    .option(\"checkpointLocation\",\"abfss://bronze@storageaccoutnazure.dfs.core.windows.net/_checkpoint/sales\") \\\n",
    "        .option(\"mergeSchema\",\"true\") \\\n",
    "            .outputMode(\"append\") \\\n",
    "                .start(\"abfss://bronze@storageaccoutnazure.dfs.core.windows.net/Raw_data/sales\")"
   ]
  },
  {
   "cell_type": "code",
   "execution_count": 0,
   "metadata": {
    "application/vnd.databricks.v1+cell": {
     "cellMetadata": {
      "byteLimit": 2048000,
      "rowLimit": 10000
     },
     "inputWidgets": {},
     "nuid": "45eda481-692c-4619-a565-358baf33d09b",
     "showTitle": false,
     "tableResultSettingsMap": {
      "0": {
       "dataGridStateBlob": "{\"version\":1,\"tableState\":{\"columnPinning\":{\"left\":[\"#row_number#\"],\"right\":[]},\"columnSizing\":{},\"columnVisibility\":{}},\"settings\":{\"columns\":{}},\"syncTimestamp\":1759595372566}",
       "filterBlob": null,
       "queryPlanFiltersBlob": null,
       "tableResultIndex": 0
      }
     },
     "title": ""
    }
   },
   "outputs": [],
   "source": [
    "display(df)"
   ]
  },
  {
   "cell_type": "code",
   "execution_count": 0,
   "metadata": {
    "application/vnd.databricks.v1+cell": {
     "cellMetadata": {
      "byteLimit": 2048000,
      "implicitDf": true,
      "rowLimit": 10000
     },
     "inputWidgets": {},
     "nuid": "ed94ca86-4d07-40fc-a01d-2c66ac46a510",
     "showTitle": false,
     "tableResultSettingsMap": {},
     "title": ""
    }
   },
   "outputs": [],
   "source": [
    "spark.sql(\"SHOW TABLES IN dev_catalog.bronze\").show()\n"
   ]
  },
  {
   "cell_type": "code",
   "execution_count": 0,
   "metadata": {
    "application/vnd.databricks.v1+cell": {
     "cellMetadata": {
      "byteLimit": 2048000,
      "rowLimit": 10000
     },
     "inputWidgets": {},
     "nuid": "51cee689-8a85-4462-8ea8-1c821f1d5aff",
     "showTitle": false,
     "tableResultSettingsMap": {},
     "title": ""
    }
   },
   "outputs": [],
   "source": [
    "df = spark.read.format(\"delta\") \\\n",
    ".option(\"inferschema\",\"true\") \\\n",
    "        .load(\"abfss://bronze@storageaccoutnazure.dfs.core.windows.net/Raw_data/sales\")"
   ]
  }
 ],
 "metadata": {
  "application/vnd.databricks.v1+notebook": {
   "computePreferences": {
    "hardware": {
     "accelerator": null,
     "gpuPoolId": null,
     "memory": null
    }
   },
   "dashboards": [],
   "environmentMetadata": {
    "base_environment": "",
    "environment_version": "3"
   },
   "inputWidgetPreferences": null,
   "language": "python",
   "notebookMetadata": {
    "mostRecentlyExecutedCommandWithImplicitDF": {
     "commandId": -1,
     "dataframes": [
      "_sqldf"
     ]
    },
    "pythonIndentUnit": 4
   },
   "notebookName": "Adventure_autoloader_ingestion.ipynb",
   "widgets": {}
  },
  "language_info": {
   "name": "python"
  }
 },
 "nbformat": 4,
 "nbformat_minor": 0
}
