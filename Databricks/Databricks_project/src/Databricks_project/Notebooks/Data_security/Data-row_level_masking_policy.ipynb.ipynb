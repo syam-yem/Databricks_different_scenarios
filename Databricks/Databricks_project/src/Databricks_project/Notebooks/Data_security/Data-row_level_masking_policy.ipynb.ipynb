{
 "cells": [
  {
   "cell_type": "code",
   "execution_count": 0,
   "metadata": {
    "application/vnd.databricks.v1+cell": {
     "cellMetadata": {
      "byteLimit": 2048000,
      "implicitDf": true,
      "rowLimit": 10000
     },
     "inputWidgets": {},
     "nuid": "a79d9000-65a7-4155-a0d0-20de4ebc6ba8",
     "showTitle": true,
     "tableResultSettingsMap": {},
     "title": "only visible to people belongs to the department"
    }
   },
   "outputs": [],
   "source": [
    "%sql\n",
    " CREATE ROW FILTER  POLICY ONLY_SEE_OWN_DEPARTMENT\n",
    " AS (DEPT STRING)\n",
    " USING (DEPT = CURRENT_USER());"
   ]
  },
  {
   "cell_type": "code",
   "execution_count": 0,
   "metadata": {
    "application/vnd.databricks.v1+cell": {
     "cellMetadata": {},
     "inputWidgets": {},
     "nuid": "a9e3f1f4-0135-4cd3-94e2-e676aae92e73",
     "showTitle": false,
     "tableResultSettingsMap": {},
     "title": ""
    }
   },
   "outputs": [],
   "source": [
    "%sql\n",
    "SELECT * FROM dev_catalog.bronze.payment_table"
   ]
  },
  {
   "cell_type": "code",
   "execution_count": 0,
   "metadata": {
    "application/vnd.databricks.v1+cell": {
     "cellMetadata": {},
     "inputWidgets": {},
     "nuid": "7f0678f0-e1d3-4094-b3b9-c12fd8b189fa",
     "showTitle": false,
     "tableResultSettingsMap": {},
     "title": ""
    }
   },
   "outputs": [],
   "source": [
    "%sql\n",
    "ALTER TABLE dev_catalog.bronze.payment_table\n",
    "ALTER ROW FILTER POLICY  ONLY_SEE_OWN_DEPARTMENT\n",
    "ON (dept); "
   ]
  },
  {
   "cell_type": "code",
   "execution_count": 0,
   "metadata": {
    "application/vnd.databricks.v1+cell": {
     "cellMetadata": {},
     "inputWidgets": {},
     "nuid": "02dc8008-01df-40a0-8eed-ff9ecefbd06e",
     "showTitle": false,
     "tableResultSettingsMap": {},
     "title": ""
    }
   },
   "outputs": [],
   "source": [
    "%sql\n",
    "CREATE ROW Filter POLICY prod_policy\n",
    "as (region string ) Returns boolean ->\n",
    " region = current_user() or is_account_group_member('admins');"
   ]
  }
 ],
 "metadata": {
  "application/vnd.databricks.v1+notebook": {
   "computePreferences": {
    "hardware": {
     "accelerator": null,
     "gpuPoolId": null,
     "memory": null
    }
   },
   "dashboards": [],
   "environmentMetadata": {
    "base_environment": "",
    "environment_version": "4"
   },
   "inputWidgetPreferences": null,
   "language": "python",
   "notebookMetadata": {
    "mostRecentlyExecutedCommandWithImplicitDF": {
     "commandId": 7767969288257350,
     "dataframes": [
      "_sqldf"
     ]
    },
    "pythonIndentUnit": 4
   },
   "notebookName": "Data-row_level_masking_policy.ipynb",
   "widgets": {}
  },
  "language_info": {
   "name": "python"
  }
 },
 "nbformat": 4,
 "nbformat_minor": 0
}
