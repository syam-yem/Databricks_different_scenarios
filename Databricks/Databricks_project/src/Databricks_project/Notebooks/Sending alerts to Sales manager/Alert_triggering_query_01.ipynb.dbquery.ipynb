{
 "cells": [
  {
   "cell_type": "code",
   "execution_count": 0,
   "metadata": {
    "application/vnd.databricks.v1+cell": {
     "cellMetadata": {
      "byteLimit": 10485760,
      "rowLimit": 1000
     },
     "inputWidgets": {},
     "nuid": "94bc0aeb-58f1-44b3-8d65-4080ce0f9ef3",
     "showTitle": false,
     "tableResultSettingsMap": {},
     "title": ""
    }
   },
   "outputs": [],
   "source": [
    "SELECT\n",
    "  CASE \n",
    "    WHEN SUM(amount) > 10000 THEN 2 \n",
    "    ELSE 0\n",
    "  END AS alert_flag\n",
    "FROM dev_catalog.bronze.sales_test_table_01\n",
    "WHERE order_date = current_date\n",
    "GROUP BY order_date;\n"
   ]
  }
 ],
 "metadata": {
  "application/vnd.databricks.v1+notebook": {
   "computePreferences": null,
   "dashboards": [],
   "environmentMetadata": null,
   "inputWidgetPreferences": null,
   "language": "sql",
   "notebookMetadata": {
    "pythonIndentUnit": 4,
    "sqlQueryOptions": {
     "applyAutoLimit": true,
     "catalog": "databrick_ws_for_diff_pipelines",
     "schema": "default"
    }
   },
   "notebookName": "Alert_triggering_query_01.ipynb.dbquery.ipynb",
   "widgets": {}
  },
  "language_info": {
   "name": "sql"
  }
 },
 "nbformat": 4,
 "nbformat_minor": 0
}
