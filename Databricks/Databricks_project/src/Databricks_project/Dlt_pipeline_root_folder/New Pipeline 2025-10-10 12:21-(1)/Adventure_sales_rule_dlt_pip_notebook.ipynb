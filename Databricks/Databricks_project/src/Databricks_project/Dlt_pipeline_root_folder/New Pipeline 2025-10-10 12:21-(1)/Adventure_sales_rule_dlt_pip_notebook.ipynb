{
 "cells": [
  {
   "cell_type": "code",
   "execution_count": 0,
   "metadata": {
    "application/vnd.databricks.v1+cell": {
     "cellMetadata": {},
     "inputWidgets": {},
     "nuid": "79978978-1643-4813-84bd-bfcec7e104ef",
     "showTitle": false,
     "tableResultSettingsMap": {},
     "title": ""
    }
   },
   "outputs": [],
   "source": [
    "import dlt\n",
    "\n",
    "rules = {\n",
    "    \"rule1\": \"OrderNumber IS NOT NULL\",\n",
    "    \"rule2\": \"OrderQuantity > 0\",\n",
    "    \"rule3\": \"OrderLineItem >= 1\"\n",
    "}\n",
    "\n",
    "@dlt.table(\n",
    "    name=\"inc_table1\"\n",
    ")\n",
    "@dlt.expect_all(rules)\n",
    "def inc_table1():\n",
    "    df = spark.readStream.format(\"cloudFiles\") \\\n",
    "        .option(\"cloudFiles.format\",\"csv\") \\\n",
    "        .option(\"inferSchema\",\"true\") \\\n",
    "        .load(\"abfss://source@storageaccoutnazure.dfs.core.windows.net/triggerdata/Sales/\")\n",
    "    return df\n"
   ]
  }
 ],
 "metadata": {
  "application/vnd.databricks.v1+notebook": {
   "computePreferences": {
    "hardware": {
     "accelerator": null,
     "gpuPoolId": null,
     "memory": null
    }
   },
   "dashboards": [],
   "environmentMetadata": {
    "base_environment": "",
    "environment_version": "4"
   },
   "inputWidgetPreferences": null,
   "language": "python",
   "notebookMetadata": {
    "pythonIndentUnit": 4
   },
   "notebookName": "Adventure_sales_rule_dlt_pip_notebook",
   "widgets": {}
  },
  "language_info": {
   "name": "python"
  }
 },
 "nbformat": 4,
 "nbformat_minor": 0
}
