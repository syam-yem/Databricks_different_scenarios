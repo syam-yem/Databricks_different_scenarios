{
 "cells": [
  {
   "cell_type": "code",
   "execution_count": 0,
   "metadata": {
    "application/vnd.databricks.v1+cell": {
     "cellMetadata": {
      "byteLimit": 10485760,
      "rowLimit": 1000
     },
     "inputWidgets": {},
     "nuid": "8a518310-e836-45f1-a349-8dff01bdd399",
     "showTitle": false,
     "tableResultSettingsMap": {},
     "title": ""
    }
   },
   "outputs": [],
   "source": [
    "-- create table dev_catalog.bronze.order_01\n",
    "-- (order_id int,\n",
    "-- order_date date,\n",
    "-- customer_id int,\n",
    "-- order_status string);\n",
    "\n",
    "insert into dev_catalog.bronze.order_01\n",
    "values\n",
    "(1,'2020-02-28',2,\"COMPLETE\"),\n",
    "(2,'2020-02-29',3,\"PENDING\"),\n",
    "(4,'2020-03-04',5,\"COMPLETE\"),\n",
    "(3,'2020-03-03',4,\"CANCELLED\"),\n",
    "(5,'2020-03-05',3,\"COMPLETE\"),\n",
    "(6,'2020-03-05',3,\"CANCELLED\")\n",
    "\n"
   ]
  }
 ],
 "metadata": {
  "application/vnd.databricks.v1+notebook": {
   "computePreferences": null,
   "dashboards": [],
   "environmentMetadata": null,
   "inputWidgetPreferences": null,
   "language": "sql",
   "notebookMetadata": {
    "pythonIndentUnit": 4,
    "sqlQueryOptions": {
     "applyAutoLimit": true,
     "catalog": "spotify_azure_databricks_ws",
     "schema": "default"
    }
   },
   "notebookName": "Order_table_insertion_Script.dbquery.ipynb",
   "widgets": {}
  },
  "language_info": {
   "name": "sql"
  }
 },
 "nbformat": 4,
 "nbformat_minor": 0
}
